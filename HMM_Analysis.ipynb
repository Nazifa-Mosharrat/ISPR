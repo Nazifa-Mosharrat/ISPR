{
  "nbformat": 4,
  "nbformat_minor": 0,
  "metadata": {
    "colab": {
      "provenance": [],
      "collapsed_sections": [
        "L1_2vy4VGGPF"
      ]
    },
    "kernelspec": {
      "name": "python3",
      "display_name": "Python 3"
    },
    "language_info": {
      "name": "python"
    }
  },
  "cells": [
    {
      "cell_type": "markdown",
      "source": [
        "### Hidden Markov Model Analysis\n",
        "<br><br>\n",
        "\n",
        "<br>"
      ],
      "metadata": {
        "id": "OvTLj5QO9o6a"
      }
    },
    {
      "cell_type": "markdown",
      "source": [
        "##Data Processing"
      ],
      "metadata": {
        "id": "L1_2vy4VGGPF"
      }
    },
    {
      "cell_type": "code",
      "source": [
        "!pip install hmmlearn\n"
      ],
      "metadata": {
        "id": "1bVO0IRi8NFs"
      },
      "execution_count": null,
      "outputs": []
    },
    {
      "cell_type": "code",
      "execution_count": null,
      "metadata": {
        "id": "IncEjhqP3To2"
      },
      "outputs": [],
      "source": [
        "import pandas as pd\n",
        "import numpy as np\n",
        "import zipfile\n",
        "import io\n",
        "import requests\n",
        "import matplotlib.pyplot as plt\n",
        "import seaborn as sns\n",
        "from hmmlearn import hmm\n"
      ]
    },
    {
      "cell_type": "code",
      "source": [
        "\n",
        "\n",
        "# Load the dataset from the ZIP file\n",
        "url = \"https://archive.ics.uci.edu/ml/machine-learning-databases/00360/AirQualityUCI.zip\"\n",
        "\n",
        "# Download the ZIP file\n",
        "response = requests.get(url)\n",
        "zipped_data = zipfile.ZipFile(io.BytesIO(response.content))\n",
        "\n",
        "\n",
        "zipped_files = zipped_data.namelist()\n",
        "csv_file = [file for file in zipped_files if file.endswith('.csv')][0]\n",
        "with zipped_data.open(csv_file) as f:\n",
        "    air_quality_data = pd.read_csv(f, sep=';', decimal=',', na_values=-200)\n",
        "\n",
        "# Drop NMHC(GT) feature due to many missing values\n",
        "air_quality_data.drop(columns=['NMHC(GT)'], inplace=True)\n",
        "air_quality_data.head()"
      ],
      "metadata": {
        "id": "tA5zpGaj3kap"
      },
      "execution_count": null,
      "outputs": []
    },
    {
      "cell_type": "code",
      "source": [
        "# Impute missing values\n",
        "# Forward fill missing values for consecutive missing observations\n",
        "air_quality_data.fillna(method='ffill', inplace=True)\n",
        "# Backward fill remaining missing values\n",
        "air_quality_data.fillna(method='bfill', inplace=True)\n",
        "\n",
        "air_quality_data.drop(columns=['Date', 'Time'], inplace=True)\n",
        "air_quality_data = air_quality_data.loc[:, ~air_quality_data.columns.str.contains('^Unnamed')]\n",
        "air_quality_data.shape\n"
      ],
      "metadata": {
        "id": "ocAtUJLM4CHt"
      },
      "execution_count": null,
      "outputs": []
    },
    {
      "cell_type": "code",
      "source": [
        "\n",
        "sensor_data = air_quality_data['PT08.S1(CO)'].values.reshape(-1, 1)\n",
        "sensor_data"
      ],
      "metadata": {
        "id": "q7IJ8uxs4YTg"
      },
      "execution_count": null,
      "outputs": []
    },
    {
      "cell_type": "code",
      "source": [
        "# Visualize the PT08.S1(CO) sensors data\n",
        "plt.figure(figsize=(12, 6))\n",
        "plt.plot(sensor_data)\n",
        "plt.title(\"Sensor 1 Data\")\n",
        "plt.xlabel(\"Time\")\n",
        "plt.ylabel(\"Sensor Reading\")\n",
        "plt.show()"
      ],
      "metadata": {
        "id": "Nc1uNpwS7ToH"
      },
      "execution_count": null,
      "outputs": []
    },
    {
      "cell_type": "markdown",
      "source": [
        "##Tried Configurations for Model Choosing:<br>\n",
        "Here several combinations of Hidden Markov Model (HMM) configurations were experimented with to identify the best model for the DSET1 sensor data. The following configurations were tried:\n",
        "\n",
        "- Emission Distributions: Multinomial, Gaussian\n",
        "- Covariance Types: Spherical, Diagonal, Full\n",
        "- Number of Hidden States: 2, 3, 4, 5, 6, 7, 8, 9, 10, 15, 20"
      ],
      "metadata": {
        "id": "pYhyhlK0-yYR"
      }
    },
    {
      "cell_type": "code",
      "source": [
        "# here fiting Hidden Markov Models with different configurations on the entire dataset\n",
        "num_states_list = [2, 3, 4,5,6,7,8,9,10,15,20]\n",
        "emission_distributions = ['multinomial', 'gaussian']\n",
        "covariance_types = ['spherical', 'diag', 'full']\n",
        "\n",
        "best_score = -np.inf\n",
        "best_model = None\n",
        "best_params = {}\n",
        "\n",
        "for emission in emission_distributions:\n",
        "    for cov_type in covariance_types:\n",
        "        for num_states in num_states_list:\n",
        "            model = hmm.GaussianHMM(n_components=num_states, covariance_type=cov_type)\n",
        "            model.fit(sensor_data)\n",
        "            score = model.score(sensor_data)\n",
        "            print({'model_score': score,'emission_distribution': emission, 'covariance_type': cov_type, 'num_states': num_states})\n",
        "            if score > best_score:\n",
        "                best_score = score\n",
        "                best_model = model\n",
        "                best_params = {'emission_distribution': emission, 'covariance_type': cov_type, 'num_states': num_states}\n",
        "\n"
      ],
      "metadata": {
        "id": "SuZ4-paKo36y"
      },
      "execution_count": null,
      "outputs": []
    },
    {
      "cell_type": "markdown",
      "source": [
        "##Best Model Configuration:<br>\n",
        "After thorough experimentation, the best model configuration was identified by the model as follows:\n",
        "\n",
        "- Emission Distribution: Gaussian\n",
        "- Covariance Type: Diagonal\n",
        "- Number of Hidden States: 15\n",
        "<br><br>\n",
        "####From the above choosen perameter by the model it's trying to reprasenting us that<br><br>\n",
        "\n",
        "- Here the Gaussian emission distribution assumes that the observed data at each time step follows a Gaussian distribution. This implies that the sensor data likely exhibits continuous and normally distributed characteristics.\n",
        "- Here by selecting the Diagonal covariance type suggests that there is limited correlation between the different features of the data at each time step. In other words, the features are relatively independent of each other.\n",
        "- Here the choice of 15 hidden states implies that the model is capturing a relatively complex underlying structure in the data. Each hidden state represents a distinct pattern in the sensor data, with transitions between states capturing the dynamics of the underlying process."
      ],
      "metadata": {
        "id": "S8OZdkKE_Or7"
      }
    },
    {
      "cell_type": "code",
      "source": [
        "# here printing scores and best model parameters for the best model\n",
        "print(\"Best Model Score (Full Data):\", best_score)\n",
        "print(\"Best Model Parameters (Full Data):\", best_params)"
      ],
      "metadata": {
        "id": "WEi21adkxsq3"
      },
      "execution_count": null,
      "outputs": []
    },
    {
      "cell_type": "code",
      "source": [
        "# extracting last 25% of the time series data\n",
        "subsequence_length = int(0.30 * len(sensor_data))\n",
        "subsequence_data = sensor_data[-subsequence_length:]\n",
        "\n",
        "# computing optimal assignment using Viterbi algorithm\n",
        "viterbi_path = best_model.predict(subsequence_data)\n",
        "\n",
        "# computing optimal assignment using posterior decoding\n",
        "posteriors = best_model.predict_proba(subsequence_data)\n",
        "posterior_path = np.argmax(posteriors, axis=1)"
      ],
      "metadata": {
        "id": "2JBVUUzr3O3m"
      },
      "execution_count": null,
      "outputs": []
    },
    {
      "cell_type": "code",
      "source": [
        "# printing scores and best model parameters for the best model\n",
        "print(\"Viterbi algorithm Sequence:\", viterbi_path)\n",
        "print(\"posterior decoding Sequence:\", posterior_path)"
      ],
      "metadata": {
        "id": "1zuh3Xvb3G4n"
      },
      "execution_count": null,
      "outputs": []
    },
    {
      "cell_type": "markdown",
      "source": [
        "##Optimal Assignment Comparison:\n",
        "Using the best model configuration, the optimal assignments were computed using both the Viterbi algorithm and the hidden state posterior decoding method. The results of comparing these two methods are as follows:\n",
        "\n",
        "- Match Accuracy: 90.95%\n",
        "- Matches: 2584\n",
        "- Mismatches: 257\n",
        "\n",
        "The high match accuracy of approximately 90.95% suggests that the two methods generally agree on the assignment of hidden states for the majority of the data points. This indicates a robustness in the model's ability to capture the underlying patterns and dynamics of the sensor data."
      ],
      "metadata": {
        "id": "jELs3JSwCVHy"
      }
    },
    {
      "cell_type": "code",
      "source": [
        "# computing accuracy comparison matrix\n",
        "accuracy_matrix = (viterbi_path == posterior_path)\n",
        "\n",
        "# calculting accuracy\n",
        "accuracy = np.mean(accuracy_matrix)\n",
        "\n",
        "# counting matches and mismatches\n",
        "matches = np.sum(accuracy_matrix)\n",
        "mismatches = len(accuracy_matrix) - matches\n",
        "\n",
        "# printing accuracy and counts\n",
        "print(\"viterbi_path and posterior_path match Accuracy:\", accuracy)\n",
        "print(\"viterbi_path and posterior_path Matches:\", matches)\n",
        "print(\"viterbi_path and posterior_path Mismatches:\", mismatches)\n"
      ],
      "metadata": {
        "id": "RzkIE3Iz3ihy"
      },
      "execution_count": null,
      "outputs": []
    },
    {
      "cell_type": "markdown",
      "source": [
        "When we compared how well the model assigned hidden states using two different methods, Viterbi and posterior decoding, we found they mostly agreed. The match rate was about 90.95%, indicating that both methods were reliable in figuring out the hidden states.<br><br>\n",
        "\n",
        "Here from the plot given below, we can observe how each method categorizes the sensor data into different hidden states. Despite some variations, both methods generally agree on the assignment of states, as indicated by the overlap of points. This consistency aligns with the high match accuracy of approximately 90.95%% calculated above."
      ],
      "metadata": {
        "id": "LgJV1tUFDBp0"
      }
    },
    {
      "cell_type": "code",
      "source": [
        "\n",
        "\n",
        "\n",
        "# Plot the timeseries data with assigned states for last 30% of the data\n",
        "plt.figure(figsize=(12, 6))\n",
        "plt.plot(subsequence_data, color='gray', label='Sensor Data')\n",
        "plt.scatter(np.where(viterbi_path == 0), subsequence_data[viterbi_path == 0], color='green', marker='x', label='Viterbi - State 1')\n",
        "plt.scatter(np.where(viterbi_path == 1), subsequence_data[viterbi_path == 1], color='purple', marker='x', label='Viterbi - State 2')\n",
        "plt.scatter(np.where(posterior_path == 0), subsequence_data[posterior_path == 0], color='red', marker='o', label='Posterior - State 1')\n",
        "plt.scatter(np.where(posterior_path == 1), subsequence_data[posterior_path == 1], color='blue', marker='o', label='Posterior - State 2')\n",
        "plt.title('Hidden State Assignment Comparison (Last 30% of Data)')\n",
        "plt.xlabel('Time')\n",
        "plt.ylabel('CO(GT)')\n",
        "plt.legend()\n",
        "plt.show()\n"
      ],
      "metadata": {
        "id": "Kh85Wc_wo49w"
      },
      "execution_count": null,
      "outputs": []
    },
    {
      "cell_type": "markdown",
      "source": [
        "##Conclusion\n",
        "\n",
        "Here the analysis demonstrated the effectiveness of Hidden Markov Models (HMMs) in capturing the underlying patterns in sensor data. By systematically exploring different model configurations and evaluation methods, we identified an optimal HMM configuration that best represents the data dynamics. The comparison between Viterbi algorithm and posterior decoding highlighted the robustness of the chosen model configuration, with a high level of agreement between the two methods.\n",
        "\n",
        "For further enhancements such as incorporating additional features, improving model interpretability of HMMs in sensor data analysis can be considered. Such as here the analysis focused on a single sensor's data, incorporating information from other sensors could provide a more comprehensive understanding of the underlying patterns. Exploring correlations between different sensor readings and integrating them into the HMM framework may enhance model performance."
      ],
      "metadata": {
        "id": "YhLlDZjXFMMm"
      }
    },
    {
      "cell_type": "code",
      "source": [],
      "metadata": {
        "id": "z14tOu8FxwyN"
      },
      "execution_count": null,
      "outputs": []
    }
  ]
}